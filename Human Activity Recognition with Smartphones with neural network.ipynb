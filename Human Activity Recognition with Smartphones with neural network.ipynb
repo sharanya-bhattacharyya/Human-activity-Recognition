{
 "cells": [
  {
   "cell_type": "code",
   "execution_count": 1,
   "metadata": {},
   "outputs": [],
   "source": [
    "import pandas as pd\n",
    "import numpy as np\n",
    "import matplotlib.pyplot as plt\n",
    "import seaborn as sns\n",
    "from pandas_profiling import ProfileReport\n",
    "from collections import Counter"
   ]
  },
  {
   "cell_type": "code",
   "execution_count": 2,
   "metadata": {},
   "outputs": [],
   "source": [
    "import os\n",
    "os.chdir('C:\\\\Users\\\\User\\\\Desktop\\\\data science projects\\\\Human Activity Recognition with Smartphones')"
   ]
  },
  {
   "cell_type": "code",
   "execution_count": 3,
   "metadata": {},
   "outputs": [
    {
     "data": {
      "text/plain": [
       "'C:\\\\Users\\\\User\\\\Desktop\\\\data science projects\\\\Human Activity Recognition with Smartphones'"
      ]
     },
     "execution_count": 3,
     "metadata": {},
     "output_type": "execute_result"
    }
   ],
   "source": [
    "pwd"
   ]
  },
  {
   "cell_type": "code",
   "execution_count": 4,
   "metadata": {},
   "outputs": [],
   "source": [
    "df_train = pd.read_csv('train.csv')\n",
    "df_test = pd.read_csv('test.csv')\n"
   ]
  },
  {
   "cell_type": "code",
   "execution_count": 5,
   "metadata": {},
   "outputs": [
    {
     "data": {
      "text/html": [
       "<div>\n",
       "<style scoped>\n",
       "    .dataframe tbody tr th:only-of-type {\n",
       "        vertical-align: middle;\n",
       "    }\n",
       "\n",
       "    .dataframe tbody tr th {\n",
       "        vertical-align: top;\n",
       "    }\n",
       "\n",
       "    .dataframe thead th {\n",
       "        text-align: right;\n",
       "    }\n",
       "</style>\n",
       "<table border=\"1\" class=\"dataframe\">\n",
       "  <thead>\n",
       "    <tr style=\"text-align: right;\">\n",
       "      <th></th>\n",
       "      <th>tBodyAcc-mean()-X</th>\n",
       "      <th>tBodyAcc-mean()-Y</th>\n",
       "      <th>tBodyAcc-mean()-Z</th>\n",
       "      <th>tBodyAcc-std()-X</th>\n",
       "      <th>tBodyAcc-std()-Y</th>\n",
       "      <th>tBodyAcc-std()-Z</th>\n",
       "      <th>tBodyAcc-mad()-X</th>\n",
       "      <th>tBodyAcc-mad()-Y</th>\n",
       "      <th>tBodyAcc-mad()-Z</th>\n",
       "      <th>tBodyAcc-max()-X</th>\n",
       "      <th>...</th>\n",
       "      <th>fBodyBodyGyroJerkMag-kurtosis()</th>\n",
       "      <th>angle(tBodyAccMean,gravity)</th>\n",
       "      <th>angle(tBodyAccJerkMean),gravityMean)</th>\n",
       "      <th>angle(tBodyGyroMean,gravityMean)</th>\n",
       "      <th>angle(tBodyGyroJerkMean,gravityMean)</th>\n",
       "      <th>angle(X,gravityMean)</th>\n",
       "      <th>angle(Y,gravityMean)</th>\n",
       "      <th>angle(Z,gravityMean)</th>\n",
       "      <th>subject</th>\n",
       "      <th>Activity</th>\n",
       "    </tr>\n",
       "  </thead>\n",
       "  <tbody>\n",
       "    <tr>\n",
       "      <th>0</th>\n",
       "      <td>0.288585</td>\n",
       "      <td>-0.020294</td>\n",
       "      <td>-0.132905</td>\n",
       "      <td>-0.995279</td>\n",
       "      <td>-0.983111</td>\n",
       "      <td>-0.913526</td>\n",
       "      <td>-0.995112</td>\n",
       "      <td>-0.983185</td>\n",
       "      <td>-0.923527</td>\n",
       "      <td>-0.934724</td>\n",
       "      <td>...</td>\n",
       "      <td>-0.710304</td>\n",
       "      <td>-0.112754</td>\n",
       "      <td>0.030400</td>\n",
       "      <td>-0.464761</td>\n",
       "      <td>-0.018446</td>\n",
       "      <td>-0.841247</td>\n",
       "      <td>0.179941</td>\n",
       "      <td>-0.058627</td>\n",
       "      <td>1</td>\n",
       "      <td>STANDING</td>\n",
       "    </tr>\n",
       "    <tr>\n",
       "      <th>1</th>\n",
       "      <td>0.278419</td>\n",
       "      <td>-0.016411</td>\n",
       "      <td>-0.123520</td>\n",
       "      <td>-0.998245</td>\n",
       "      <td>-0.975300</td>\n",
       "      <td>-0.960322</td>\n",
       "      <td>-0.998807</td>\n",
       "      <td>-0.974914</td>\n",
       "      <td>-0.957686</td>\n",
       "      <td>-0.943068</td>\n",
       "      <td>...</td>\n",
       "      <td>-0.861499</td>\n",
       "      <td>0.053477</td>\n",
       "      <td>-0.007435</td>\n",
       "      <td>-0.732626</td>\n",
       "      <td>0.703511</td>\n",
       "      <td>-0.844788</td>\n",
       "      <td>0.180289</td>\n",
       "      <td>-0.054317</td>\n",
       "      <td>1</td>\n",
       "      <td>STANDING</td>\n",
       "    </tr>\n",
       "    <tr>\n",
       "      <th>2</th>\n",
       "      <td>0.279653</td>\n",
       "      <td>-0.019467</td>\n",
       "      <td>-0.113462</td>\n",
       "      <td>-0.995380</td>\n",
       "      <td>-0.967187</td>\n",
       "      <td>-0.978944</td>\n",
       "      <td>-0.996520</td>\n",
       "      <td>-0.963668</td>\n",
       "      <td>-0.977469</td>\n",
       "      <td>-0.938692</td>\n",
       "      <td>...</td>\n",
       "      <td>-0.760104</td>\n",
       "      <td>-0.118559</td>\n",
       "      <td>0.177899</td>\n",
       "      <td>0.100699</td>\n",
       "      <td>0.808529</td>\n",
       "      <td>-0.848933</td>\n",
       "      <td>0.180637</td>\n",
       "      <td>-0.049118</td>\n",
       "      <td>1</td>\n",
       "      <td>STANDING</td>\n",
       "    </tr>\n",
       "    <tr>\n",
       "      <th>3</th>\n",
       "      <td>0.279174</td>\n",
       "      <td>-0.026201</td>\n",
       "      <td>-0.123283</td>\n",
       "      <td>-0.996091</td>\n",
       "      <td>-0.983403</td>\n",
       "      <td>-0.990675</td>\n",
       "      <td>-0.997099</td>\n",
       "      <td>-0.982750</td>\n",
       "      <td>-0.989302</td>\n",
       "      <td>-0.938692</td>\n",
       "      <td>...</td>\n",
       "      <td>-0.482845</td>\n",
       "      <td>-0.036788</td>\n",
       "      <td>-0.012892</td>\n",
       "      <td>0.640011</td>\n",
       "      <td>-0.485366</td>\n",
       "      <td>-0.848649</td>\n",
       "      <td>0.181935</td>\n",
       "      <td>-0.047663</td>\n",
       "      <td>1</td>\n",
       "      <td>STANDING</td>\n",
       "    </tr>\n",
       "    <tr>\n",
       "      <th>4</th>\n",
       "      <td>0.276629</td>\n",
       "      <td>-0.016570</td>\n",
       "      <td>-0.115362</td>\n",
       "      <td>-0.998139</td>\n",
       "      <td>-0.980817</td>\n",
       "      <td>-0.990482</td>\n",
       "      <td>-0.998321</td>\n",
       "      <td>-0.979672</td>\n",
       "      <td>-0.990441</td>\n",
       "      <td>-0.942469</td>\n",
       "      <td>...</td>\n",
       "      <td>-0.699205</td>\n",
       "      <td>0.123320</td>\n",
       "      <td>0.122542</td>\n",
       "      <td>0.693578</td>\n",
       "      <td>-0.615971</td>\n",
       "      <td>-0.847865</td>\n",
       "      <td>0.185151</td>\n",
       "      <td>-0.043892</td>\n",
       "      <td>1</td>\n",
       "      <td>STANDING</td>\n",
       "    </tr>\n",
       "  </tbody>\n",
       "</table>\n",
       "<p>5 rows × 563 columns</p>\n",
       "</div>"
      ],
      "text/plain": [
       "   tBodyAcc-mean()-X  tBodyAcc-mean()-Y  tBodyAcc-mean()-Z  tBodyAcc-std()-X  \\\n",
       "0           0.288585          -0.020294          -0.132905         -0.995279   \n",
       "1           0.278419          -0.016411          -0.123520         -0.998245   \n",
       "2           0.279653          -0.019467          -0.113462         -0.995380   \n",
       "3           0.279174          -0.026201          -0.123283         -0.996091   \n",
       "4           0.276629          -0.016570          -0.115362         -0.998139   \n",
       "\n",
       "   tBodyAcc-std()-Y  tBodyAcc-std()-Z  tBodyAcc-mad()-X  tBodyAcc-mad()-Y  \\\n",
       "0         -0.983111         -0.913526         -0.995112         -0.983185   \n",
       "1         -0.975300         -0.960322         -0.998807         -0.974914   \n",
       "2         -0.967187         -0.978944         -0.996520         -0.963668   \n",
       "3         -0.983403         -0.990675         -0.997099         -0.982750   \n",
       "4         -0.980817         -0.990482         -0.998321         -0.979672   \n",
       "\n",
       "   tBodyAcc-mad()-Z  tBodyAcc-max()-X  ...  fBodyBodyGyroJerkMag-kurtosis()  \\\n",
       "0         -0.923527         -0.934724  ...                        -0.710304   \n",
       "1         -0.957686         -0.943068  ...                        -0.861499   \n",
       "2         -0.977469         -0.938692  ...                        -0.760104   \n",
       "3         -0.989302         -0.938692  ...                        -0.482845   \n",
       "4         -0.990441         -0.942469  ...                        -0.699205   \n",
       "\n",
       "   angle(tBodyAccMean,gravity)  angle(tBodyAccJerkMean),gravityMean)  \\\n",
       "0                    -0.112754                              0.030400   \n",
       "1                     0.053477                             -0.007435   \n",
       "2                    -0.118559                              0.177899   \n",
       "3                    -0.036788                             -0.012892   \n",
       "4                     0.123320                              0.122542   \n",
       "\n",
       "   angle(tBodyGyroMean,gravityMean)  angle(tBodyGyroJerkMean,gravityMean)  \\\n",
       "0                         -0.464761                             -0.018446   \n",
       "1                         -0.732626                              0.703511   \n",
       "2                          0.100699                              0.808529   \n",
       "3                          0.640011                             -0.485366   \n",
       "4                          0.693578                             -0.615971   \n",
       "\n",
       "   angle(X,gravityMean)  angle(Y,gravityMean)  angle(Z,gravityMean)  subject  \\\n",
       "0             -0.841247              0.179941             -0.058627        1   \n",
       "1             -0.844788              0.180289             -0.054317        1   \n",
       "2             -0.848933              0.180637             -0.049118        1   \n",
       "3             -0.848649              0.181935             -0.047663        1   \n",
       "4             -0.847865              0.185151             -0.043892        1   \n",
       "\n",
       "   Activity  \n",
       "0  STANDING  \n",
       "1  STANDING  \n",
       "2  STANDING  \n",
       "3  STANDING  \n",
       "4  STANDING  \n",
       "\n",
       "[5 rows x 563 columns]"
      ]
     },
     "execution_count": 5,
     "metadata": {},
     "output_type": "execute_result"
    }
   ],
   "source": [
    "df_train.head()"
   ]
  },
  {
   "cell_type": "code",
   "execution_count": 6,
   "metadata": {},
   "outputs": [
    {
     "data": {
      "text/plain": [
       "(7352, 563)"
      ]
     },
     "execution_count": 6,
     "metadata": {},
     "output_type": "execute_result"
    }
   ],
   "source": [
    "df_train.shape"
   ]
  },
  {
   "cell_type": "code",
   "execution_count": 7,
   "metadata": {},
   "outputs": [
    {
     "data": {
      "text/plain": [
       "(2947, 563)"
      ]
     },
     "execution_count": 7,
     "metadata": {},
     "output_type": "execute_result"
    }
   ],
   "source": [
    "df_test.shape"
   ]
  },
  {
   "cell_type": "code",
   "execution_count": 8,
   "metadata": {},
   "outputs": [
    {
     "data": {
      "text/plain": [
       "False"
      ]
     },
     "execution_count": 8,
     "metadata": {},
     "output_type": "execute_result"
    }
   ],
   "source": [
    "df_train.isnull().values.any()"
   ]
  },
  {
   "cell_type": "code",
   "execution_count": 9,
   "metadata": {},
   "outputs": [
    {
     "data": {
      "text/plain": [
       "False"
      ]
     },
     "execution_count": 9,
     "metadata": {},
     "output_type": "execute_result"
    }
   ],
   "source": [
    "df_test.isnull().values.any()"
   ]
  },
  {
   "cell_type": "code",
   "execution_count": 10,
   "metadata": {},
   "outputs": [
    {
     "name": "stdout",
     "output_type": "stream",
     "text": [
      "<class 'pandas.core.frame.DataFrame'>\n",
      "RangeIndex: 7352 entries, 0 to 7351\n",
      "Columns: 563 entries, tBodyAcc-mean()-X to Activity\n",
      "dtypes: float64(561), int64(1), object(1)\n",
      "memory usage: 31.6+ MB\n"
     ]
    }
   ],
   "source": [
    "df_train.info()"
   ]
  },
  {
   "cell_type": "code",
   "execution_count": 11,
   "metadata": {},
   "outputs": [
    {
     "name": "stdout",
     "output_type": "stream",
     "text": [
      "Number of duplicates in train :  0\n",
      "Number of duplicates in test :  0\n"
     ]
    }
   ],
   "source": [
    "print('Number of duplicates in train : ',sum(df_train.duplicated()))\n",
    "print('Number of duplicates in test : ', sum(df_test.duplicated()))"
   ]
  },
  {
   "cell_type": "code",
   "execution_count": 12,
   "metadata": {},
   "outputs": [
    {
     "name": "stdout",
     "output_type": "stream",
     "text": [
      "Total number of missing values in train :  0\n",
      "Total number of missing values in train :  0\n"
     ]
    }
   ],
   "source": [
    "print('Total number of missing values in train : ', df_train.isna().values.sum())\n",
    "print('Total number of missing values in train : ', df_test.isna().values.sum())"
   ]
  },
  {
   "cell_type": "code",
   "execution_count": 13,
   "metadata": {},
   "outputs": [
    {
     "data": {
      "text/html": [
       "<div>\n",
       "<style scoped>\n",
       "    .dataframe tbody tr th:only-of-type {\n",
       "        vertical-align: middle;\n",
       "    }\n",
       "\n",
       "    .dataframe tbody tr th {\n",
       "        vertical-align: top;\n",
       "    }\n",
       "\n",
       "    .dataframe thead th {\n",
       "        text-align: right;\n",
       "    }\n",
       "</style>\n",
       "<table border=\"1\" class=\"dataframe\">\n",
       "  <thead>\n",
       "    <tr style=\"text-align: right;\">\n",
       "      <th></th>\n",
       "      <th>count</th>\n",
       "    </tr>\n",
       "  </thead>\n",
       "  <tbody>\n",
       "    <tr>\n",
       "      <th>fBodyAcc</th>\n",
       "      <td>79</td>\n",
       "    </tr>\n",
       "    <tr>\n",
       "      <th>fBodyGyro</th>\n",
       "      <td>79</td>\n",
       "    </tr>\n",
       "    <tr>\n",
       "      <th>fBodyAccJerk</th>\n",
       "      <td>79</td>\n",
       "    </tr>\n",
       "    <tr>\n",
       "      <th>tGravityAcc</th>\n",
       "      <td>40</td>\n",
       "    </tr>\n",
       "    <tr>\n",
       "      <th>tBodyAcc</th>\n",
       "      <td>40</td>\n",
       "    </tr>\n",
       "    <tr>\n",
       "      <th>tBodyGyroJerk</th>\n",
       "      <td>40</td>\n",
       "    </tr>\n",
       "    <tr>\n",
       "      <th>tBodyGyro</th>\n",
       "      <td>40</td>\n",
       "    </tr>\n",
       "    <tr>\n",
       "      <th>tBodyAccJerk</th>\n",
       "      <td>40</td>\n",
       "    </tr>\n",
       "    <tr>\n",
       "      <th>tBodyAccMag</th>\n",
       "      <td>13</td>\n",
       "    </tr>\n",
       "    <tr>\n",
       "      <th>tGravityAccMag</th>\n",
       "      <td>13</td>\n",
       "    </tr>\n",
       "    <tr>\n",
       "      <th>tBodyAccJerkMag</th>\n",
       "      <td>13</td>\n",
       "    </tr>\n",
       "    <tr>\n",
       "      <th>tBodyGyroMag</th>\n",
       "      <td>13</td>\n",
       "    </tr>\n",
       "    <tr>\n",
       "      <th>tBodyGyroJerkMag</th>\n",
       "      <td>13</td>\n",
       "    </tr>\n",
       "    <tr>\n",
       "      <th>fBodyAccMag</th>\n",
       "      <td>13</td>\n",
       "    </tr>\n",
       "    <tr>\n",
       "      <th>fBodyBodyAccJerkMag</th>\n",
       "      <td>13</td>\n",
       "    </tr>\n",
       "    <tr>\n",
       "      <th>fBodyBodyGyroMag</th>\n",
       "      <td>13</td>\n",
       "    </tr>\n",
       "    <tr>\n",
       "      <th>fBodyBodyGyroJerkMag</th>\n",
       "      <td>13</td>\n",
       "    </tr>\n",
       "    <tr>\n",
       "      <th>angle</th>\n",
       "      <td>7</td>\n",
       "    </tr>\n",
       "    <tr>\n",
       "      <th>subject</th>\n",
       "      <td>1</td>\n",
       "    </tr>\n",
       "    <tr>\n",
       "      <th>Activity</th>\n",
       "      <td>1</td>\n",
       "    </tr>\n",
       "  </tbody>\n",
       "</table>\n",
       "</div>"
      ],
      "text/plain": [
       "                      count\n",
       "fBodyAcc                 79\n",
       "fBodyGyro                79\n",
       "fBodyAccJerk             79\n",
       "tGravityAcc              40\n",
       "tBodyAcc                 40\n",
       "tBodyGyroJerk            40\n",
       "tBodyGyro                40\n",
       "tBodyAccJerk             40\n",
       "tBodyAccMag              13\n",
       "tGravityAccMag           13\n",
       "tBodyAccJerkMag          13\n",
       "tBodyGyroMag             13\n",
       "tBodyGyroJerkMag         13\n",
       "fBodyAccMag              13\n",
       "fBodyBodyAccJerkMag      13\n",
       "fBodyBodyGyroMag         13\n",
       "fBodyBodyGyroJerkMag     13\n",
       "angle                     7\n",
       "subject                   1\n",
       "Activity                  1"
      ]
     },
     "execution_count": 13,
     "metadata": {},
     "output_type": "execute_result"
    }
   ],
   "source": [
    "pd.DataFrame.from_dict(Counter([col.split('-')[0].split('(')[0] for col in df_train.columns]), orient='index').rename(columns={0:'count'}).sort_values('count', ascending=False)"
   ]
  },
  {
   "cell_type": "code",
   "execution_count": 14,
   "metadata": {},
   "outputs": [
    {
     "data": {
      "text/html": [
       "<div>\n",
       "<style scoped>\n",
       "    .dataframe tbody tr th:only-of-type {\n",
       "        vertical-align: middle;\n",
       "    }\n",
       "\n",
       "    .dataframe tbody tr th {\n",
       "        vertical-align: top;\n",
       "    }\n",
       "\n",
       "    .dataframe thead th {\n",
       "        text-align: right;\n",
       "    }\n",
       "</style>\n",
       "<table border=\"1\" class=\"dataframe\">\n",
       "  <thead>\n",
       "    <tr style=\"text-align: right;\">\n",
       "      <th></th>\n",
       "      <th>count</th>\n",
       "    </tr>\n",
       "  </thead>\n",
       "  <tbody>\n",
       "    <tr>\n",
       "      <th>fBodyAcc</th>\n",
       "      <td>79</td>\n",
       "    </tr>\n",
       "    <tr>\n",
       "      <th>fBodyGyro</th>\n",
       "      <td>79</td>\n",
       "    </tr>\n",
       "    <tr>\n",
       "      <th>fBodyAccJerk</th>\n",
       "      <td>79</td>\n",
       "    </tr>\n",
       "    <tr>\n",
       "      <th>tGravityAcc</th>\n",
       "      <td>40</td>\n",
       "    </tr>\n",
       "    <tr>\n",
       "      <th>tBodyAcc</th>\n",
       "      <td>40</td>\n",
       "    </tr>\n",
       "    <tr>\n",
       "      <th>tBodyGyroJerk</th>\n",
       "      <td>40</td>\n",
       "    </tr>\n",
       "    <tr>\n",
       "      <th>tBodyGyro</th>\n",
       "      <td>40</td>\n",
       "    </tr>\n",
       "    <tr>\n",
       "      <th>tBodyAccJerk</th>\n",
       "      <td>40</td>\n",
       "    </tr>\n",
       "    <tr>\n",
       "      <th>tBodyAccMag</th>\n",
       "      <td>13</td>\n",
       "    </tr>\n",
       "    <tr>\n",
       "      <th>tGravityAccMag</th>\n",
       "      <td>13</td>\n",
       "    </tr>\n",
       "    <tr>\n",
       "      <th>tBodyAccJerkMag</th>\n",
       "      <td>13</td>\n",
       "    </tr>\n",
       "    <tr>\n",
       "      <th>tBodyGyroMag</th>\n",
       "      <td>13</td>\n",
       "    </tr>\n",
       "    <tr>\n",
       "      <th>tBodyGyroJerkMag</th>\n",
       "      <td>13</td>\n",
       "    </tr>\n",
       "    <tr>\n",
       "      <th>fBodyAccMag</th>\n",
       "      <td>13</td>\n",
       "    </tr>\n",
       "    <tr>\n",
       "      <th>fBodyBodyAccJerkMag</th>\n",
       "      <td>13</td>\n",
       "    </tr>\n",
       "    <tr>\n",
       "      <th>fBodyBodyGyroMag</th>\n",
       "      <td>13</td>\n",
       "    </tr>\n",
       "    <tr>\n",
       "      <th>fBodyBodyGyroJerkMag</th>\n",
       "      <td>13</td>\n",
       "    </tr>\n",
       "    <tr>\n",
       "      <th>angle</th>\n",
       "      <td>7</td>\n",
       "    </tr>\n",
       "    <tr>\n",
       "      <th>subject</th>\n",
       "      <td>1</td>\n",
       "    </tr>\n",
       "    <tr>\n",
       "      <th>Activity</th>\n",
       "      <td>1</td>\n",
       "    </tr>\n",
       "  </tbody>\n",
       "</table>\n",
       "</div>"
      ],
      "text/plain": [
       "                      count\n",
       "fBodyAcc                 79\n",
       "fBodyGyro                79\n",
       "fBodyAccJerk             79\n",
       "tGravityAcc              40\n",
       "tBodyAcc                 40\n",
       "tBodyGyroJerk            40\n",
       "tBodyGyro                40\n",
       "tBodyAccJerk             40\n",
       "tBodyAccMag              13\n",
       "tGravityAccMag           13\n",
       "tBodyAccJerkMag          13\n",
       "tBodyGyroMag             13\n",
       "tBodyGyroJerkMag         13\n",
       "fBodyAccMag              13\n",
       "fBodyBodyAccJerkMag      13\n",
       "fBodyBodyGyroMag         13\n",
       "fBodyBodyGyroJerkMag     13\n",
       "angle                     7\n",
       "subject                   1\n",
       "Activity                  1"
      ]
     },
     "execution_count": 14,
     "metadata": {},
     "output_type": "execute_result"
    }
   ],
   "source": [
    "pd.DataFrame.from_dict(Counter([col.split('-')[0].split('(')[0] for col in df_test.columns]), orient='index').rename(columns={0:'count'}).sort_values('count', ascending=False)"
   ]
  },
  {
   "cell_type": "code",
   "execution_count": 15,
   "metadata": {},
   "outputs": [
    {
     "data": {
      "text/plain": [
       "array(['STANDING', 'SITTING', 'LAYING', 'WALKING', 'WALKING_DOWNSTAIRS',\n",
       "       'WALKING_UPSTAIRS'], dtype=object)"
      ]
     },
     "execution_count": 15,
     "metadata": {},
     "output_type": "execute_result"
    }
   ],
   "source": [
    "df_train['Activity'].unique()"
   ]
  },
  {
   "cell_type": "code",
   "execution_count": 16,
   "metadata": {},
   "outputs": [
    {
     "data": {
      "text/plain": [
       "(array([0, 1, 2, 3, 4, 5]), <a list of 6 Text major ticklabel objects>)"
      ]
     },
     "execution_count": 16,
     "metadata": {},
     "output_type": "execute_result"
    },
    {
     "data": {
      "image/png": "[encoded data removed]",
      "text/plain": [
       "<Figure size 720x576 with 1 Axes>"
      ]
     },
     "metadata": {},
     "output_type": "display_data"
    }
   ],
   "source": [
    "plt.figure(figsize=(10,8))\n",
    "plt.title('Barplot of Activity')\n",
    "sns.countplot(df_train.Activity)\n",
    "plt.xticks(rotation=90)"
   ]
  },
  {
   "cell_type": "code",
   "execution_count": 17,
   "metadata": {},
   "outputs": [
    {
     "data": {
      "text/plain": [
       "<matplotlib.axes._subplots.AxesSubplot at 0x28cd5c01708>"
      ]
     },
     "execution_count": 17,
     "metadata": {},
     "output_type": "execute_result"
    },
    {
     "data": {
      "image/png": "[encoded data removed]",
      "text/plain": [
       "<Figure size 864x576 with 2 Axes>"
      ]
     },
     "metadata": {},
     "output_type": "display_data"
    }
   ],
   "source": [
    "plt.figure(figsize=(12,8))\n",
    "plt.subplot(1,2,1)\n",
    "plt.title(\"Static Activities(closer view)\")\n",
    "sns.distplot(df_train[df_train[\"Activity\"]==\"SITTING\"]['tBodyAccMag-mean()'],hist = False, label = 'Sitting')\n",
    "sns.distplot(df_train[df_train[\"Activity\"]==\"STANDING\"]['tBodyAccMag-mean()'],hist = False,label = 'Standing')\n",
    "sns.distplot(df_train[df_train[\"Activity\"]==\"LAYING\"]['tBodyAccMag-mean()'],hist = False, label = 'Laying')\n",
    "plt.axis([-1.02, -0.5, 0, 35])\n",
    "plt.subplot(1,2,2)\n",
    "plt.title(\"Dynamic Activities(closer view)\")\n",
    "sns.distplot(df_train[df_train[\"Activity\"]==\"WALKING\"]['tBodyAccMag-mean()'],hist = False, label = 'Sitting')\n",
    "sns.distplot(df_train[df_train[\"Activity\"]==\"WALKING_DOWNSTAIRS\"]['tBodyAccMag-mean()'],hist = False,label = 'Standing')\n",
    "sns.distplot(df_train[df_train[\"Activity\"]==\"WALKING_UPSTAIRS\"]['tBodyAccMag-mean()'],hist = False, label = 'Laying')"
   ]
  },
  {
   "cell_type": "code",
   "execution_count": 18,
   "metadata": {},
   "outputs": [
    {
     "data": {
      "text/plain": [
       "(array([0, 1, 2, 3, 4, 5]), <a list of 6 Text major ticklabel objects>)"
      ]
     },
     "execution_count": 18,
     "metadata": {},
     "output_type": "execute_result"
    },
    {
     "data": {
      "image/png": "[encoded data removed]",
      "text/plain": [
       "<Figure size 720x504 with 1 Axes>"
      ]
     },
     "metadata": {},
     "output_type": "display_data"
    }
   ],
   "source": [
    "plt.figure(figsize=(10,7))\n",
    "sns.boxplot(x='Activity', y='tBodyAccMag-mean()',data=df_train, showfliers=False)\n",
    "plt.ylabel('Body Acceleration Magnitude mean')\n",
    "plt.title(\"Boxplot of tBodyAccMag-mean() column across various activities\")\n",
    "plt.axhline(y=-0.7, xmin=0.05,dashes=(3,3))\n",
    "plt.axhline(y=0.020, xmin=0.35, dashes=(3,3))\n",
    "plt.xticks(rotation=90)"
   ]
  },
  {
   "cell_type": "code",
   "execution_count": 19,
   "metadata": {},
   "outputs": [
    {
     "data": {
      "text/plain": [
       "(array([0, 1, 2, 3, 4, 5]), <a list of 6 Text major ticklabel objects>)"
      ]
     },
     "execution_count": 19,
     "metadata": {},
     "output_type": "execute_result"
    },
    {
     "data": {
      "image/png": "[encoded data removed]",
      "text/plain": [
       "<Figure size 720x504 with 1 Axes>"
      ]
     },
     "metadata": {},
     "output_type": "display_data"
    }
   ],
   "source": [
    "plt.figure(figsize=(10,7))\n",
    "sns.boxplot(x='Activity', y='angle(X,gravityMean)', data=df_train, showfliers=False)\n",
    "plt.axhline(y=0.08, xmin=0.1, xmax=0.9,dashes=(3,3))\n",
    "plt.ylabel(\"Angle between X-axis and gravityMean\")\n",
    "plt.title('Box plot of angle(X,gravityMean) column across various activities')\n",
    "plt.xticks(rotation = 90)"
   ]
  },
  {
   "cell_type": "code",
   "execution_count": 20,
   "metadata": {},
   "outputs": [],
   "source": [
    "X_train = pd.DataFrame(df_train.drop(['Activity','subject'],axis=1))\n",
    "Y_train_label = df_train.Activity.values.astype(object)\n",
    "X_test = pd.DataFrame(df_test.drop(['Activity','subject'],axis=1))\n",
    "Y_test_label = df_test.Activity.values.astype(object)"
   ]
  },
  {
   "cell_type": "code",
   "execution_count": 21,
   "metadata": {},
   "outputs": [
    {
     "data": {
      "text/plain": [
       "array(['STANDING', 'STANDING', 'STANDING', ..., 'WALKING_UPSTAIRS',\n",
       "       'WALKING_UPSTAIRS', 'WALKING_UPSTAIRS'], dtype=object)"
      ]
     },
     "execution_count": 21,
     "metadata": {},
     "output_type": "execute_result"
    }
   ],
   "source": [
    "Y_train_label"
   ]
  },
  {
   "cell_type": "code",
   "execution_count": 22,
   "metadata": {},
   "outputs": [
    {
     "data": {
      "text/plain": [
       "array(['STANDING', 'STANDING', 'STANDING', ..., 'WALKING_UPSTAIRS',\n",
       "       'WALKING_UPSTAIRS', 'WALKING_UPSTAIRS'], dtype=object)"
      ]
     },
     "execution_count": 22,
     "metadata": {},
     "output_type": "execute_result"
    }
   ],
   "source": [
    "Y_test_label"
   ]
  },
  {
   "cell_type": "code",
   "execution_count": 23,
   "metadata": {},
   "outputs": [],
   "source": [
    "from sklearn.preprocessing import StandardScaler\n",
    "scaler = StandardScaler()\n",
    "X_train_scaled = scaler.fit_transform(X_train)\n",
    "X_test_scaled = scaler.transform(X_test)"
   ]
  },
  {
   "cell_type": "code",
   "execution_count": 24,
   "metadata": {},
   "outputs": [],
   "source": [
    "from sklearn import preprocessing\n",
    "encoder = preprocessing.LabelEncoder()\n",
    "\n",
    "# encoding train labels \n",
    "encoder.fit(Y_train_label)\n",
    "Y_train = encoder.transform(Y_train_label)\n",
    "\n",
    "# encoding test labels \n",
    "encoder.fit(Y_test_label)\n",
    "Y_test = encoder.transform(Y_test_label)"
   ]
  },
  {
   "cell_type": "code",
   "execution_count": 25,
   "metadata": {},
   "outputs": [
    {
     "data": {
      "text/plain": [
       "GridSearchCV(cv=5, estimator=SVC(),\n",
       "             param_grid=[{'C': [1, 10, 100, 1000], 'gamma': [0.001, 0.0001],\n",
       "                          'kernel': ['rbf']},\n",
       "                         {'C': [1, 10, 100, 1000], 'kernel': ['linear']}])"
      ]
     },
     "execution_count": 25,
     "metadata": {},
     "output_type": "execute_result"
    }
   ],
   "source": [
    "from sklearn.metrics import confusion_matrix,classification_report\n",
    "from sklearn.model_selection import cross_val_score, GridSearchCV\n",
    "params_grid = [{'kernel': ['rbf'], 'gamma': [1e-3, 1e-4],\n",
    "                     'C': [1, 10, 100, 1000]},\n",
    "                    {'kernel': ['linear'], 'C': [1, 10, 100, 1000]}]\n",
    "\n",
    "from sklearn.svm import SVC\n",
    "svm_model = GridSearchCV(SVC(), params_grid, cv=5)\n",
    "svm_model.fit(X_train_scaled, Y_train)\n"
   ]
  },
  {
   "cell_type": "code",
   "execution_count": 26,
   "metadata": {},
   "outputs": [
    {
     "name": "stdout",
     "output_type": "stream",
     "text": [
      "Best score for training data: 0.938255432696532 \n",
      "\n",
      "Best C: 1000 \n",
      "\n",
      "Best Kernel: rbf \n",
      "\n",
      "Best Gamma: 0.0001 \n",
      "\n"
     ]
    }
   ],
   "source": [
    "print('Best score for training data:', svm_model.best_score_,\"\\n\") \n",
    "\n",
    "# View the best parameters for the model found using grid search\n",
    "print('Best C:',svm_model.best_estimator_.C,\"\\n\") \n",
    "print('Best Kernel:',svm_model.best_estimator_.kernel,\"\\n\")\n",
    "print('Best Gamma:',svm_model.best_estimator_.gamma,\"\\n\")\n",
    "\n",
    "final_model = svm_model.best_estimator_\n",
    "Y_pred = final_model.predict(X_test_scaled)\n",
    "Y_pred_label = list(encoder.inverse_transform(Y_pred))"
   ]
  },
  {
   "cell_type": "code",
   "execution_count": 27,
   "metadata": {},
   "outputs": [
    {
     "data": {
      "text/plain": [
       "(2947,)"
      ]
     },
     "execution_count": 27,
     "metadata": {},
     "output_type": "execute_result"
    }
   ],
   "source": [
    "Y_test.shape"
   ]
  },
  {
   "cell_type": "code",
   "execution_count": 28,
   "metadata": {},
   "outputs": [
    {
     "data": {
      "text/plain": [
       "(2947,)"
      ]
     },
     "execution_count": 28,
     "metadata": {},
     "output_type": "execute_result"
    }
   ],
   "source": [
    "Y_pred.shape"
   ]
  },
  {
   "cell_type": "code",
   "execution_count": 29,
   "metadata": {},
   "outputs": [
    {
     "name": "stdout",
     "output_type": "stream",
     "text": [
      "[[537   0   0   0   0   0]\n",
      " [  0 436  54   0   0   1]\n",
      " [  0  15 517   0   0   0]\n",
      " [  0   0   0 493   3   0]\n",
      " [  0   0   0   5 398  17]\n",
      " [  0   0   0  16   2 453]]\n",
      "\n",
      "\n",
      "              precision    recall  f1-score   support\n",
      "\n",
      "           0       1.00      1.00      1.00       537\n",
      "           1       0.97      0.89      0.93       491\n",
      "           2       0.91      0.97      0.94       532\n",
      "           3       0.96      0.99      0.98       496\n",
      "           4       0.99      0.95      0.97       420\n",
      "           5       0.96      0.96      0.96       471\n",
      "\n",
      "    accuracy                           0.96      2947\n",
      "   macro avg       0.96      0.96      0.96      2947\n",
      "weighted avg       0.96      0.96      0.96      2947\n",
      "\n",
      "Training set score for SVM: 0.996872\n",
      "Testing  set score for SVM: 0.961656\n"
     ]
    },
    {
     "data": {
      "text/plain": [
       "<bound method BaseSearchCV.score of GridSearchCV(cv=5, estimator=SVC(),\n",
       "             param_grid=[{'C': [1, 10, 100, 1000], 'gamma': [0.001, 0.0001],\n",
       "                          'kernel': ['rbf']},\n",
       "                         {'C': [1, 10, 100, 1000], 'kernel': ['linear']}])>"
      ]
     },
     "execution_count": 29,
     "metadata": {},
     "output_type": "execute_result"
    }
   ],
   "source": [
    "print(confusion_matrix(Y_test,Y_pred))\n",
    "print(\"\\n\")\n",
    "print(classification_report(Y_test,Y_pred))\n",
    "\n",
    "print(\"Training set score for SVM: %f\" % final_model.score(X_train_scaled , Y_train))\n",
    "print(\"Testing  set score for SVM: %f\" % final_model.score(X_test_scaled  , Y_test ))\n",
    "\n",
    "svm_model.score"
   ]
  },
  {
   "cell_type": "code",
   "execution_count": 30,
   "metadata": {},
   "outputs": [],
   "source": [
    "from sklearn.preprocessing import StandardScaler\n",
    "sc=StandardScaler()\n",
    "X_train=sc.fit_transform(X_train)\n",
    "X_test=sc.transform(X_test)"
   ]
  },
  {
   "cell_type": "code",
   "execution_count": null,
   "metadata": {},
   "outputs": [],
   "source": []
  },
  {
   "cell_type": "code",
   "execution_count": 32,
   "metadata": {},
   "outputs": [
    {
     "data": {
      "text/plain": [
       "(7352, 561)"
      ]
     },
     "execution_count": 32,
     "metadata": {},
     "output_type": "execute_result"
    }
   ],
   "source": [
    "X_train.shape"
   ]
  },
  {
   "cell_type": "code",
   "execution_count": 33,
   "metadata": {},
   "outputs": [],
   "source": [
    "import tensorflow as tf\n",
    "from tensorflow import keras\n",
    "from tensorflow.keras.models import Sequential\n",
    "from tensorflow.keras.layers import Dense\n",
    "from tensorflow.keras.layers import Dropout"
   ]
  },
  {
   "cell_type": "code",
   "execution_count": 55,
   "metadata": {},
   "outputs": [],
   "source": [
    "X_train=df_train.iloc[:,:-2]\n",
    "y_train=df_train.iloc[:,-1]\n",
    "\n",
    "X_test=df_test.iloc[:,:-2]\n",
    "y_test=df_test.iloc[:,-1]"
   ]
  },
  {
   "cell_type": "code",
   "execution_count": 56,
   "metadata": {},
   "outputs": [],
   "source": [
    "from sklearn.preprocessing import StandardScaler\n",
    "sc=StandardScaler()\n",
    "X_train=sc.fit_transform(X_train)\n",
    "X_test=sc.transform(X_test)"
   ]
  },
  {
   "cell_type": "code",
   "execution_count": 57,
   "metadata": {},
   "outputs": [],
   "source": [
    "from sklearn.preprocessing import LabelEncoder\n",
    "encoder=LabelEncoder()\n",
    "y_train=encoder.fit_transform(y_train)\n",
    "y_train=pd.get_dummies(y_train).values"
   ]
  },
  {
   "cell_type": "code",
   "execution_count": 58,
   "metadata": {},
   "outputs": [],
   "source": [
    "from sklearn.preprocessing import LabelEncoder\n",
    "encoder=LabelEncoder()\n",
    "y_test=encoder.fit_transform(y_test)\n",
    "y_test=pd.get_dummies(y_test).values"
   ]
  },
  {
   "cell_type": "code",
   "execution_count": 59,
   "metadata": {},
   "outputs": [],
   "source": [
    "from sklearn.decomposition import PCA\n",
    "pca=PCA(n_components=None)\n",
    "X_train=pca.fit_transform(X_train)\n",
    "X_test=pca.transform(X_test)\n",
    "explained_variance=pca.explained_variance_ratio_"
   ]
  },
  {
   "cell_type": "code",
   "execution_count": 60,
   "metadata": {},
   "outputs": [
    {
     "data": {
      "text/plain": [
       "array([5.07811723e-01, 6.58068027e-02, 2.80643677e-02, 2.50395275e-02,\n",
       "       1.88828501e-02, 1.72400642e-02, 1.37101147e-02, 1.19907768e-02,\n",
       "       9.95859511e-03, 9.65086590e-03, 8.60051649e-03, 8.00280950e-03,\n",
       "       7.63996369e-03, 6.45328924e-03, 6.32324346e-03, 5.99722090e-03,\n",
       "       5.86750302e-03, 5.75407392e-03, 5.67921047e-03, 5.27295779e-03,\n",
       "       5.00362925e-03, 4.88408406e-03, 4.78205784e-03, 4.68562930e-03,\n",
       "       4.49289260e-03, 4.21027243e-03, 4.17978682e-03, 4.05570369e-03,\n",
       "       3.88524168e-03, 3.87018044e-03, 3.65958878e-03, 3.54553381e-03,\n",
       "       3.47942606e-03, 3.37187109e-03, 3.29676999e-03, 3.28215050e-03,\n",
       "       3.20529478e-03, 2.95614939e-03, 2.86722415e-03, 2.85074548e-03,\n",
       "       2.68766324e-03, 2.65619859e-03, 2.63405989e-03, 2.58850596e-03,\n",
       "       2.49054872e-03, 2.46954034e-03, 2.40679913e-03, 2.36115075e-03,\n",
       "       2.30278857e-03, 2.27567245e-03, 2.20164699e-03, 2.13466984e-03,\n",
       "       2.07704456e-03, 2.02496620e-03, 1.99779441e-03, 1.97750625e-03,\n",
       "       1.94273627e-03, 1.90237160e-03, 1.88064891e-03, 1.86215970e-03,\n",
       "       1.81466544e-03, 1.77380987e-03, 1.76085074e-03, 1.73283909e-03,\n",
       "       1.70738317e-03, 1.68548073e-03, 1.65614929e-03, 1.63102448e-03,\n",
       "       1.58436782e-03, 1.57497542e-03, 1.53022902e-03, 1.52205247e-03,\n",
       "       1.48139151e-03, 1.46071476e-03, 1.44670526e-03, 1.42753738e-03,\n",
       "       1.38656539e-03, 1.35591695e-03, 1.34705548e-03, 1.33078158e-03,\n",
       "       1.30815550e-03, 1.30240739e-03, 1.28229864e-03, 1.24994798e-03,\n",
       "       1.22974483e-03, 1.21552960e-03, 1.19170472e-03, 1.17436497e-03,\n",
       "       1.15283702e-03, 1.13147455e-03, 1.10592054e-03, 1.09326676e-03,\n",
       "       1.07921823e-03, 1.05983611e-03, 1.02711779e-03, 1.02086442e-03,\n",
       "       1.00722080e-03, 9.84274129e-04, 9.64768328e-04, 9.38411210e-04,\n",
       "       9.23386748e-04, 9.17395339e-04, 8.98893380e-04, 8.94995590e-04,\n",
       "       8.75176393e-04, 8.70466802e-04, 8.58500025e-04, 8.34789074e-04,\n",
       "       8.27557558e-04, 8.26355241e-04, 8.11534976e-04, 7.98272745e-04,\n",
       "       7.72818789e-04, 7.58213801e-04, 7.50513383e-04, 7.28136300e-04,\n",
       "       7.18148372e-04, 7.09966903e-04, 6.97854018e-04, 6.78705081e-04,\n",
       "       6.64375012e-04, 6.50269657e-04, 6.39855199e-04, 6.30796301e-04,\n",
       "       6.21437731e-04, 6.15389578e-04, 6.02431674e-04, 5.96996321e-04,\n",
       "       5.82891574e-04, 5.75654343e-04, 5.64485244e-04, 5.57471583e-04,\n",
       "       5.45618542e-04, 5.39341176e-04, 5.29318324e-04, 5.25714158e-04,\n",
       "       5.15133326e-04, 5.05175113e-04, 5.02220396e-04, 4.88906240e-04,\n",
       "       4.84919846e-04, 4.74685040e-04, 4.69585258e-04, 4.61118783e-04,\n",
       "       4.60303801e-04, 4.50249601e-04, 4.42694120e-04, 4.37648533e-04,\n",
       "       4.29693762e-04, 4.22632660e-04, 4.16209744e-04, 4.09031341e-04,\n",
       "       4.07198954e-04, 3.98152708e-04, 3.87819397e-04, 3.85706947e-04,\n",
       "       3.79896552e-04, 3.68934940e-04, 3.62786914e-04, 3.54410253e-04,\n",
       "       3.47723424e-04, 3.46879694e-04, 3.35116336e-04, 3.32705631e-04,\n",
       "       3.26087499e-04, 3.15121893e-04, 3.02513246e-04, 2.88157589e-04,\n",
       "       2.73460298e-04, 2.67374190e-04, 2.59346227e-04, 2.53948264e-04,\n",
       "       2.46786301e-04, 2.41381782e-04, 2.38940673e-04, 2.28360155e-04,\n",
       "       2.25853592e-04, 2.24241681e-04, 2.14799624e-04, 2.08470907e-04,\n",
       "       2.04918069e-04, 1.98169379e-04, 1.96786294e-04, 1.88640947e-04,\n",
       "       1.82513335e-04, 1.80149866e-04, 1.74943506e-04, 1.71658778e-04,\n",
       "       1.67942227e-04, 1.64189168e-04, 1.56091218e-04, 1.55297886e-04,\n",
       "       1.48624880e-04, 1.46546181e-04, 1.43583547e-04, 1.38617453e-04,\n",
       "       1.36686865e-04, 1.31551749e-04, 1.24661068e-04, 1.23390418e-04,\n",
       "       1.20877808e-04, 1.18619996e-04, 1.15197016e-04, 1.11405824e-04,\n",
       "       1.08403383e-04, 1.05223256e-04, 1.03123893e-04, 9.92588958e-05,\n",
       "       9.88228438e-05, 9.69455693e-05, 9.52823210e-05, 9.29974440e-05,\n",
       "       9.09989820e-05, 9.02663923e-05, 8.94427789e-05, 8.86210791e-05,\n",
       "       8.77445408e-05, 8.50704689e-05, 8.21190530e-05, 8.18181796e-05,\n",
       "       8.06130196e-05, 7.94607761e-05, 7.82510991e-05, 7.63689785e-05,\n",
       "       7.51544933e-05, 7.40207555e-05, 7.18409342e-05, 7.10465615e-05,\n",
       "       7.02033879e-05, 6.89494913e-05, 6.80655085e-05, 6.66664300e-05,\n",
       "       6.51964162e-05, 6.48294423e-05, 6.25299230e-05, 6.17140063e-05,\n",
       "       6.09121494e-05, 5.95702112e-05, 5.94037377e-05, 5.85889363e-05,\n",
       "       5.76238866e-05, 5.70355479e-05, 5.61242824e-05, 5.45682738e-05,\n",
       "       5.32075077e-05, 5.30465083e-05, 5.16647520e-05, 5.13750513e-05,\n",
       "       4.99369873e-05, 4.86742430e-05, 4.79054318e-05, 4.71302992e-05,\n",
       "       4.62447979e-05, 4.52463762e-05, 4.41717910e-05, 4.31265005e-05,\n",
       "       4.25229326e-05, 4.20687559e-05, 4.05894218e-05, 4.04843640e-05,\n",
       "       3.99552560e-05, 3.87900310e-05, 3.85995471e-05, 3.80015416e-05,\n",
       "       3.75668437e-05, 3.63161160e-05, 3.56151852e-05, 3.49489273e-05,\n",
       "       3.46557562e-05, 3.35310985e-05, 3.30853549e-05, 3.25462528e-05,\n",
       "       3.21472588e-05, 3.17508450e-05, 3.10102254e-05, 3.04362348e-05,\n",
       "       2.93713307e-05, 2.92026712e-05, 2.88083627e-05, 2.79630436e-05,\n",
       "       2.79183138e-05, 2.76236237e-05, 2.68229223e-05, 2.62488507e-05,\n",
       "       2.59824139e-05, 2.57280496e-05, 2.51909164e-05, 2.46715706e-05,\n",
       "       2.43059206e-05, 2.41169941e-05, 2.38997283e-05, 2.30023015e-05,\n",
       "       2.29245564e-05, 2.25931186e-05, 2.24081881e-05, 2.18782455e-05,\n",
       "       2.15489086e-05, 2.15232796e-05, 2.08601439e-05, 2.07249264e-05,\n",
       "       2.01958696e-05, 1.96945960e-05, 1.95452722e-05, 1.93284986e-05,\n",
       "       1.89562436e-05, 1.86931625e-05, 1.85588477e-05, 1.82242774e-05,\n",
       "       1.80039789e-05, 1.76397623e-05, 1.72440721e-05, 1.70314181e-05,\n",
       "       1.64016994e-05, 1.63435936e-05, 1.60678606e-05, 1.58552449e-05,\n",
       "       1.58010966e-05, 1.54615655e-05, 1.52278135e-05, 1.51563314e-05,\n",
       "       1.48092237e-05, 1.46953487e-05, 1.42420454e-05, 1.42144064e-05,\n",
       "       1.36619284e-05, 1.33798700e-05, 1.30659872e-05, 1.29558943e-05,\n",
       "       1.25900181e-05, 1.23464212e-05, 1.21982128e-05, 1.18778128e-05,\n",
       "       1.15557944e-05, 1.13628988e-05, 1.10719577e-05, 1.09822315e-05,\n",
       "       1.05666034e-05, 1.04422367e-05, 1.02480568e-05, 9.82805368e-06,\n",
       "       9.69092549e-06, 9.53627675e-06, 9.31336629e-06, 9.04589770e-06,\n",
       "       8.75117177e-06, 8.38200492e-06, 8.18681681e-06, 8.15081335e-06,\n",
       "       7.87885163e-06, 7.65430430e-06, 7.50252471e-06, 7.17399929e-06,\n",
       "       6.91564293e-06, 6.73227208e-06, 6.56161178e-06, 6.52174138e-06,\n",
       "       6.21692271e-06, 6.02829911e-06, 5.95882675e-06, 5.81943313e-06,\n",
       "       5.46080815e-06, 5.34404091e-06, 5.32498828e-06, 5.05723893e-06,\n",
       "       5.01036642e-06, 4.72015529e-06, 4.64502736e-06, 4.49348997e-06,\n",
       "       4.37281993e-06, 4.13485798e-06, 4.10642526e-06, 4.00889186e-06,\n",
       "       3.93487802e-06, 3.83746982e-06, 3.74779938e-06, 3.61352061e-06,\n",
       "       3.50801719e-06, 3.47872092e-06, 3.28233620e-06, 3.15085651e-06,\n",
       "       3.08065556e-06, 2.97070882e-06, 2.69378376e-06, 2.60914876e-06,\n",
       "       2.57978556e-06, 2.51491779e-06, 2.29127111e-06, 2.21911987e-06,\n",
       "       2.13682769e-06, 2.06123188e-06, 2.04878243e-06, 2.00866015e-06,\n",
       "       1.94607344e-06, 1.87380562e-06, 1.64088158e-06, 1.58105832e-06,\n",
       "       1.52027815e-06, 1.46509503e-06, 1.35798259e-06, 1.32109360e-06,\n",
       "       1.30549314e-06, 1.24436515e-06, 1.17700506e-06, 1.12820607e-06,\n",
       "       1.07694883e-06, 1.01257449e-06, 9.66671981e-07, 9.26166884e-07,\n",
       "       8.95073667e-07, 8.64892827e-07, 8.16942676e-07, 7.83851669e-07,\n",
       "       7.51111834e-07, 7.23640630e-07, 7.09784805e-07, 6.82083730e-07,\n",
       "       6.74328151e-07, 6.39801988e-07, 6.18445445e-07, 5.98594531e-07,\n",
       "       5.80967584e-07, 5.65441587e-07, 5.41352962e-07, 5.25957596e-07,\n",
       "       4.88288359e-07, 4.80361420e-07, 4.63931067e-07, 4.25119338e-07,\n",
       "       4.10076367e-07, 3.85009426e-07, 3.69754012e-07, 3.59867712e-07,\n",
       "       3.56664245e-07, 3.49621265e-07, 3.09570879e-07, 2.98237486e-07,\n",
       "       2.73805438e-07, 2.64106544e-07, 2.57003377e-07, 2.28527719e-07,\n",
       "       2.06938131e-07, 2.02960791e-07, 1.45318804e-07, 7.17597916e-08,\n",
       "       4.58553418e-08, 4.11180794e-08, 3.48109205e-08, 3.36982085e-08,\n",
       "       2.71295443e-08, 2.64190551e-08, 2.26469504e-08, 2.15367162e-08,\n",
       "       2.04918619e-08, 1.73888902e-08, 1.64903860e-08, 1.15757009e-08,\n",
       "       1.13994859e-08, 1.01919403e-08, 9.22868025e-09, 7.24687376e-09,\n",
       "       6.71738896e-09, 6.01631216e-09, 5.52037578e-09, 4.13158921e-09,\n",
       "       2.41778928e-10, 1.44927754e-10, 1.02644878e-10, 3.71716952e-12,\n",
       "       1.07963161e-12, 2.79609647e-13, 3.05919265e-18, 2.85305833e-18,\n",
       "       2.61777085e-18, 2.19589314e-18, 1.85000601e-18, 1.79946560e-18,\n",
       "       1.70964629e-18, 1.68477125e-18, 1.63807016e-18, 1.52806800e-18,\n",
       "       1.38547145e-18, 1.24618427e-18, 1.16244945e-18, 1.14116910e-18,\n",
       "       1.12994884e-18, 1.07105811e-18, 1.02183566e-18, 8.82089783e-19,\n",
       "       8.68452915e-19, 8.56499394e-19, 8.14750942e-19, 8.05791101e-19,\n",
       "       7.93815101e-19, 7.65918915e-19, 7.42078118e-19, 7.11946831e-19,\n",
       "       6.84805464e-19, 6.34245466e-19, 6.14131091e-19, 6.00408212e-19,\n",
       "       5.81183053e-19, 5.40129483e-19, 5.01766995e-19, 4.70580991e-19,\n",
       "       4.30603121e-19, 4.18487614e-19, 4.15668309e-19, 3.95407525e-19,\n",
       "       3.85968429e-19, 3.68450582e-19, 3.55946359e-19, 3.52230882e-19,\n",
       "       3.45008139e-19, 3.38621345e-19, 3.32820889e-19, 3.24620530e-19,\n",
       "       3.22984448e-19, 3.07309215e-19, 3.01219932e-19, 2.93706723e-19,\n",
       "       2.88633462e-19, 2.77526208e-19, 2.68853035e-19, 2.60571291e-19,\n",
       "       2.54818638e-19, 2.52455842e-19, 2.44925859e-19, 2.42984429e-19,\n",
       "       2.33758422e-19, 2.26436117e-19, 2.09600185e-19, 1.93310876e-19,\n",
       "       1.90445477e-19, 1.80300374e-19, 1.74557377e-19, 1.45830101e-19,\n",
       "       1.37175292e-19, 9.85387140e-20, 7.23230705e-20, 5.67236989e-20,\n",
       "       3.24903205e-33, 3.24903205e-33, 3.24903205e-33, 3.24903205e-33,\n",
       "       3.24903205e-33, 3.24903205e-33, 3.24903205e-33, 3.24903205e-33,\n",
       "       3.24903205e-33, 3.24903205e-33, 3.24903205e-33, 3.24903205e-33,\n",
       "       3.24903205e-33, 3.24903205e-33, 3.24903205e-33, 3.24903205e-33,\n",
       "       3.24903205e-33, 3.24903205e-33, 3.24903205e-33, 1.39768217e-34,\n",
       "       1.34255828e-35])"
      ]
     },
     "execution_count": 60,
     "metadata": {},
     "output_type": "execute_result"
    }
   ],
   "source": [
    "explained_variance"
   ]
  },
  {
   "cell_type": "code",
   "execution_count": 61,
   "metadata": {},
   "outputs": [],
   "source": [
    "model=Sequential()\n",
    "model.add(Dense(units=64,kernel_initializer='uniform',activation='relu',input_dim=X_train.shape[1]))\n",
    "\n",
    "model.add(Dense(units=128,kernel_initializer='uniform',activation='relu'))\n",
    "\n",
    "model.add(Dense(units=64,kernel_initializer='uniform',activation='relu'))\n",
    "\n",
    "model.add(Dense(units=6,kernel_initializer='uniform',activation='softmax'))"
   ]
  },
  {
   "cell_type": "code",
   "execution_count": 62,
   "metadata": {},
   "outputs": [],
   "source": [
    "model.compile(optimizer='adam',loss='categorical_crossentropy',metrics=['accuracy'])"
   ]
  },
  {
   "cell_type": "code",
   "execution_count": 63,
   "metadata": {},
   "outputs": [
    {
     "name": "stdout",
     "output_type": "stream",
     "text": [
      "Train on 7352 samples, validate on 2947 samples\n",
      "Epoch 1/22\n",
      "WARNING:tensorflow:Entity <function Function._initialize_uninitialized_variables.<locals>.initialize_variables at 0x0000028CE28564C8> could not be transformed and will be executed as-is. Please report this to the AutoGraph team. When filing the bug, set the verbosity to 10 (on Linux, `export AUTOGRAPH_VERBOSITY=10`) and attach the full output. Cause: module 'gast' has no attribute 'Num'\n",
      "WARNING: Entity <function Function._initialize_uninitialized_variables.<locals>.initialize_variables at 0x0000028CE28564C8> could not be transformed and will be executed as-is. Please report this to the AutoGraph team. When filing the bug, set the verbosity to 10 (on Linux, `export AUTOGRAPH_VERBOSITY=10`) and attach the full output. Cause: module 'gast' has no attribute 'Num'\n",
      "7352/7352 [==============================] - 1s 181us/sample - loss: 1.5779 - accuracy: 0.5626 - val_loss: 1.0618 - val_accuracy: 0.6390\n",
      "Epoch 2/22\n",
      "7352/7352 [==============================] - 0s 31us/sample - loss: 0.5704 - accuracy: 0.8071 - val_loss: 0.2929 - val_accuracy: 0.9460\n",
      "Epoch 3/22\n",
      "7352/7352 [==============================] - 0s 35us/sample - loss: 0.1531 - accuracy: 0.9592 - val_loss: 0.1431 - val_accuracy: 0.9508\n",
      "Epoch 4/22\n",
      "7352/7352 [==============================] - 0s 32us/sample - loss: 0.0503 - accuracy: 0.9827 - val_loss: 0.1534 - val_accuracy: 0.9481\n",
      "Epoch 5/22\n",
      "7352/7352 [==============================] - 0s 33us/sample - loss: 0.0338 - accuracy: 0.9891 - val_loss: 0.1701 - val_accuracy: 0.9498\n",
      "Epoch 6/22\n",
      "7352/7352 [==============================] - 0s 32us/sample - loss: 0.0247 - accuracy: 0.9922 - val_loss: 0.1633 - val_accuracy: 0.9552\n",
      "Epoch 7/22\n",
      "7352/7352 [==============================] - 0s 35us/sample - loss: 0.0197 - accuracy: 0.9939 - val_loss: 0.1780 - val_accuracy: 0.9511\n",
      "Epoch 8/22\n",
      "7352/7352 [==============================] - 0s 33us/sample - loss: 0.0147 - accuracy: 0.9958 - val_loss: 0.1536 - val_accuracy: 0.9559\n",
      "Epoch 9/22\n",
      "7352/7352 [==============================] - 0s 32us/sample - loss: 0.0128 - accuracy: 0.9967 - val_loss: 0.1580 - val_accuracy: 0.9569\n",
      "Epoch 10/22\n",
      "7352/7352 [==============================] - 0s 31us/sample - loss: 0.0100 - accuracy: 0.9969 - val_loss: 0.1654 - val_accuracy: 0.9555\n",
      "Epoch 11/22\n",
      "7352/7352 [==============================] - 0s 32us/sample - loss: 0.0087 - accuracy: 0.9976 - val_loss: 0.2082 - val_accuracy: 0.9505\n",
      "Epoch 12/22\n",
      "7352/7352 [==============================] - 0s 31us/sample - loss: 0.0054 - accuracy: 0.9986 - val_loss: 0.1770 - val_accuracy: 0.9562\n",
      "Epoch 13/22\n",
      "7352/7352 [==============================] - 0s 34us/sample - loss: 0.0034 - accuracy: 0.9993 - val_loss: 0.1931 - val_accuracy: 0.9535\n",
      "Epoch 14/22\n",
      "7352/7352 [==============================] - 0s 35us/sample - loss: 0.0022 - accuracy: 0.9997 - val_loss: 0.1986 - val_accuracy: 0.9549\n",
      "Epoch 15/22\n",
      "7352/7352 [==============================] - 0s 42us/sample - loss: 0.0017 - accuracy: 0.9999 - val_loss: 0.2249 - val_accuracy: 0.9498\n",
      "Epoch 16/22\n",
      "7352/7352 [==============================] - 0s 37us/sample - loss: 0.0015 - accuracy: 1.0000 - val_loss: 0.1990 - val_accuracy: 0.9552\n",
      "Epoch 17/22\n",
      "7352/7352 [==============================] - 0s 35us/sample - loss: 0.0011 - accuracy: 1.0000 - val_loss: 0.2134 - val_accuracy: 0.9545\n",
      "Epoch 18/22\n",
      "7352/7352 [==============================] - 0s 34us/sample - loss: 8.5592e-04 - accuracy: 1.0000 - val_loss: 0.2034 - val_accuracy: 0.9555\n",
      "Epoch 19/22\n",
      "7352/7352 [==============================] - 0s 37us/sample - loss: 6.8335e-04 - accuracy: 1.0000 - val_loss: 0.2185 - val_accuracy: 0.9539\n",
      "Epoch 20/22\n",
      "7352/7352 [==============================] - 0s 32us/sample - loss: 5.4718e-04 - accuracy: 1.0000 - val_loss: 0.2168 - val_accuracy: 0.9545\n",
      "Epoch 21/22\n",
      "7352/7352 [==============================] - 0s 36us/sample - loss: 4.8033e-04 - accuracy: 1.0000 - val_loss: 0.2221 - val_accuracy: 0.9542\n",
      "Epoch 22/22\n",
      "7352/7352 [==============================] - 0s 34us/sample - loss: 4.1155e-04 - accuracy: 1.0000 - val_loss: 0.2221 - val_accuracy: 0.9545\n"
     ]
    }
   ],
   "source": [
    "history=model.fit(X_train,y_train,batch_size=256,epochs=22,validation_data=(X_test,y_test))"
   ]
  },
  {
   "cell_type": "code",
   "execution_count": 64,
   "metadata": {},
   "outputs": [
    {
     "data": {
      "image/png": "[encoded data removed]",
      "text/plain": [
       "<Figure size 576x396 with 1 Axes>"
      ]
     },
     "metadata": {},
     "output_type": "display_data"
    },
    {
     "data": {
      "image/png": "[encoded data removed]",
      "text/plain": [
       "<Figure size 576x396 with 1 Axes>"
      ]
     },
     "metadata": {},
     "output_type": "display_data"
    }
   ],
   "source": [
    "plt.plot(history.history['accuracy'])\n",
    "plt.plot(history.history['val_accuracy'])\n",
    "plt.title('model accuracy')\n",
    "plt.ylabel('accuracy')\n",
    "plt.xlabel('epoch')\n",
    "plt.legend(['train', 'test'], loc='upper left')\n",
    "plt.show()\n",
    "# summarize history for loss\n",
    "plt.plot(history.history['loss'])\n",
    "plt.plot(history.history['val_loss'])\n",
    "plt.title('model loss')\n",
    "plt.ylabel('loss')\n",
    "plt.xlabel('epoch')\n",
    "plt.legend(['train', 'test'], loc='upper left')\n",
    "plt.show()"
   ]
  },
  {
   "cell_type": "code",
   "execution_count": 65,
   "metadata": {},
   "outputs": [],
   "source": [
    "y_pred=model.predict(X_test)"
   ]
  },
  {
   "cell_type": "code",
   "execution_count": 66,
   "metadata": {},
   "outputs": [],
   "source": [
    "y_test_class=np.argmax(y_test,axis=1)\n",
    "y_pred_class=np.argmax(y_pred,axis=1)"
   ]
  },
  {
   "cell_type": "code",
   "execution_count": 67,
   "metadata": {},
   "outputs": [
    {
     "data": {
      "text/plain": [
       "array([2, 2, 2, ..., 5, 5, 5], dtype=int64)"
      ]
     },
     "execution_count": 67,
     "metadata": {},
     "output_type": "execute_result"
    }
   ],
   "source": [
    "y_test_class"
   ]
  },
  {
   "cell_type": "code",
   "execution_count": 68,
   "metadata": {},
   "outputs": [
    {
     "data": {
      "text/plain": [
       "array([2, 2, 1, ..., 5, 5, 5], dtype=int64)"
      ]
     },
     "execution_count": 68,
     "metadata": {},
     "output_type": "execute_result"
    }
   ],
   "source": [
    "y_pred_class"
   ]
  },
  {
   "cell_type": "code",
   "execution_count": 69,
   "metadata": {},
   "outputs": [],
   "source": [
    "from sklearn.metrics import confusion_matrix,accuracy_score\n",
    "cm=confusion_matrix(y_test_class,y_pred_class)\n",
    "accuracy=accuracy_score(y_test_class,y_pred_class)"
   ]
  },
  {
   "cell_type": "code",
   "execution_count": 70,
   "metadata": {},
   "outputs": [
    {
     "data": {
      "text/plain": [
       "array([[521,   0,  16,   0,   0,   0],\n",
       "       [  1, 435,  54,   0,   0,   1],\n",
       "       [  0,  18, 514,   0,   0,   0],\n",
       "       [  0,   0,   0, 490,   3,   3],\n",
       "       [  0,   0,   0,   4, 410,   6],\n",
       "       [  0,   0,   0,  25,   3, 443]], dtype=int64)"
      ]
     },
     "execution_count": 70,
     "metadata": {},
     "output_type": "execute_result"
    }
   ],
   "source": [
    "cm"
   ]
  },
  {
   "cell_type": "code",
   "execution_count": 71,
   "metadata": {},
   "outputs": [
    {
     "data": {
      "text/plain": [
       "0.9545300305395318"
      ]
     },
     "execution_count": 71,
     "metadata": {},
     "output_type": "execute_result"
    }
   ],
   "source": [
    "accuracy"
   ]
  },
  {
   "cell_type": "code",
   "execution_count": null,
   "metadata": {},
   "outputs": [],
   "source": []
  },
  {
   "cell_type": "code",
   "execution_count": null,
   "metadata": {},
   "outputs": [],
   "source": []
  }
 ],
 "metadata": {
  "kernelspec": {
   "display_name": "Python 3",
   "language": "python",
   "name": "python3"
  },
  "language_info": {
   "codemirror_mode": {
    "name": "ipython",
    "version": 3
   },
   "file_extension": ".py",
   "mimetype": "text/x-python",
   "name": "python",
   "nbconvert_exporter": "python",
   "pygments_lexer": "ipython3",
   "version": "3.7.7"
  }
 },
 "nbformat": 4,
 "nbformat_minor": 4
}
